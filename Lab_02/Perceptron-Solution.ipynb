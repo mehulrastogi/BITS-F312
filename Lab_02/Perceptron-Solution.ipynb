{
 "cells": [
  {
   "cell_type": "markdown",
   "metadata": {},
   "source": [
    "# Lab 02 : Perceptron"
   ]
  },
  {
   "cell_type": "code",
   "execution_count": 1,
   "metadata": {},
   "outputs": [],
   "source": [
    "import numpy as np"
   ]
  },
  {
   "cell_type": "markdown",
   "metadata": {},
   "source": [
    "### Forward Propogation of a Perceptron\n",
    "\n",
    "Task 1: Implement the forward propogation of a single perceptron using only numpy and python functions.\n",
    "\n",
    "\n",
    "A single perceptron can be used for binary classification. Perceptron can be used to implement only linearly seprable functions.\n",
    "\n",
    "The perceptron would look like something as follows:\n",
    "\n",
    "![image.png](img/1.png)\n",
    "\n",
    "Source: https://towardsdatascience.com/what-the-hell-is-perceptron-626217814f53\n",
    "\n"
   ]
  },
  {
   "cell_type": "markdown",
   "metadata": {},
   "source": [
    "Mathematically the Perceptron equation looks as follows :-\n",
    "\n",
    "\n",
    "![image.png](img/math.png)\n",
    "Source : https://towardsdatascience.com/perceptron-the-artificial-neuron-4d8c70d5cc8d\n",
    "\n",
    "\n",
    "\n",
    "\n",
    "Where W1 , W1.. Wn are the weights and X1 , X2 ,...Xn are the inputs. Furthere their is a non-linear activation function f(a) that gives output out.\n",
    "\n",
    "Here , W0 is the bias which in the equation can be taken as b.\n",
    "\n",
    "a = x1*w1 + x2*w2 + x3*w3 + b   # Weighted Sum\n",
    "z = f(a)                        # Activation Function\n",
    "\n",
    "In our case the the activation is ReLu\n",
    "\n",
    "The non-linear activation function is the ReLU function which is defined as follows:\n",
    "\n",
    "\n",
    "            x, if x > 0\n",
    "ReLU(x) = \n",
    "            \n",
    "            0, otherwise\n",
    "             \n",
    "Complete the Perceptron Class given below\n"
   ]
  },
  {
   "cell_type": "code",
   "execution_count": 2,
   "metadata": {},
   "outputs": [],
   "source": [
    "def step(x):\n",
    "    \"\"\" Implements the Step function. \"\"\"\n",
    "    if x > 0:\n",
    "        return 1\n",
    "\n",
    "    return 0\n",
    "\n",
    "class Neuron:\n",
    "    \n",
    "    def __init__(self):\n",
    "        \"\"\" Class that depicts a single neuron. \n",
    "            Input dimension of this neuron is 3. \"\"\"\n",
    "\n",
    "        self.bias = -0.2\n",
    "        self.weights = [-0.5, 0.1, 0.7]\n",
    "        self.input_dim = 3\n",
    "    \n",
    "    def propagate(self, X):\n",
    "        \"\"\" For each instance, calculate a and then z.\n",
    "        \n",
    "            Parameters\n",
    "            ----------\n",
    "            X: list of lists\n",
    "                The input instances. \"\"\"\n",
    "        \n",
    "        outputs = list()\n",
    "        for x in X:\n",
    "            z = self._weighted_sum(x)\n",
    "            a = self._activation_function(z)\n",
    "            outputs.append(a)\n",
    "            \n",
    "        return outputs\n",
    "\n",
    "    def _weighted_sum(self, inputs):\n",
    "        \"\"\" Calculate the weighted sum from one instance.\n",
    "            \n",
    "            Parameters\n",
    "            ----------\n",
    "            inputs: list of numbers\n",
    "                e.g. [0.1, 0.2, 0.7]. \"\"\"\n",
    "        \n",
    "        dot_product = 0\n",
    "        for i in range(self.input_dim):\n",
    "            dot_product += self.weights[i]*inputs[i]\n",
    "\n",
    "        dot_product += self.bias\n",
    "\n",
    "        return dot_product\n",
    "\n",
    "    def _activation_function(self, x):\n",
    "        \"\"\" Returns ReLU(x). \"\"\"\n",
    "        return step(x)"
   ]
  },
  {
   "cell_type": "code",
   "execution_count": 3,
   "metadata": {},
   "outputs": [],
   "source": [
    "inputs = [[0.1, 0.2, 0.7], [0.5, 0.9, 0.1], [0.02, 0.1, 0.7]]"
   ]
  },
  {
   "cell_type": "code",
   "execution_count": 4,
   "metadata": {},
   "outputs": [],
   "source": [
    "neuron = Neuron()\n",
    "outputs = neuron.propagate(inputs)"
   ]
  },
  {
   "cell_type": "code",
   "execution_count": 5,
   "metadata": {},
   "outputs": [
    {
     "data": {
      "text/plain": [
       "[1, 0, 1]"
      ]
     },
     "execution_count": 5,
     "metadata": {},
     "output_type": "execute_result"
    }
   ],
   "source": [
    "outputs"
   ]
  },
  {
   "cell_type": "markdown",
   "metadata": {},
   "source": [
    "A perceptron is made up of just one neuron. So we can make a wrapper class over the neuron to model a Perceptron. The following part is just for demonstrating this. Don't change anything.\n",
    "\n",
    "This demonstrates one forward pass of a perceptron. The next step is to calculate the losses using the errors and change weights by backpropagation.\n",
    "\n"
   ]
  },
  {
   "cell_type": "code",
   "execution_count": 6,
   "metadata": {},
   "outputs": [],
   "source": [
    "class Perceptron:\n",
    "    \n",
    "    def __init__(self):\n",
    "        self.neuron = Neuron()\n",
    "        \n",
    "    def train(self, X_train, y_train):    \n",
    "        self.X_train = X_train\n",
    "        self.y_train = y_train\n",
    "        \n",
    "        self.errors = []\n",
    "        self.activations = self.forward_propagate()\n",
    "        self.errors = self.calculate_errors()\n",
    "        \n",
    "    def forward_propagate(self):\n",
    "        return self.neuron.propagate(self.X_train)\n",
    "    \n",
    "    def calculate_errors(self):\n",
    "        errors = [self.activations[i] - self.y_train[i] for i in range(len(self.y_train))]\n",
    "        return errors"
   ]
  },
  {
   "cell_type": "code",
   "execution_count": 7,
   "metadata": {},
   "outputs": [
    {
     "data": {
      "text/plain": [
       "[0.7, -0.01, 0.6699999999999999]"
      ]
     },
     "execution_count": 7,
     "metadata": {},
     "output_type": "execute_result"
    }
   ],
   "source": [
    "perceptron = Perceptron()\n",
    "perceptron.train(inputs, [0.3, 0.01, 0.33])\n",
    "perceptron.errors"
   ]
  },
  {
   "cell_type": "markdown",
   "metadata": {},
   "source": [
    "### Functions for plotting graphs"
   ]
  },
  {
   "cell_type": "code",
   "execution_count": 8,
   "metadata": {},
   "outputs": [],
   "source": [
    "\n",
    "\n",
    "def plot_loss(epoch_his, train_loss_his, test_loss_his):\n",
    "    train_line, = plt.plot(epoch_his,train_loss_his,label = 'train')\n",
    "    test_line, = plt.plot(epoch_his,test_loss_his,label = 'test')\n",
    "    plt.xlabel('EPOCHS')\n",
    "    plt.ylabel('Loss')\n",
    "    plt.legend([train_line, test_line] , ['train','test'])\n",
    "    plt.show()\n",
    "\n",
    "def plot_accuracy(epoch_his, train_acc_his, test_acc_his):\n",
    "    train_line, = plt.plot(epoch_his,train_acc_his,label = 'train')\n",
    "    test_line, = plt.plot(epoch_his,test_acc_his,label = 'test')\n",
    "    plt.xlabel('EPOCHS')\n",
    "    plt.ylabel('Accuracy')\n",
    "    plt.legend([train_line, test_line] , ['train','test'])\n",
    "    plt.show()\n",
    "\n"
   ]
  },
  {
   "cell_type": "markdown",
   "metadata": {},
   "source": [
    "### Loss Function"
   ]
  },
  {
   "cell_type": "code",
   "execution_count": 9,
   "metadata": {},
   "outputs": [],
   "source": [
    "\n",
    "def binary_cross_entropy(pred , Y):\n",
    "    \"\"\"\n",
    "    The binary cross entropy loss.\n",
    "    Note\n",
    "    -pred should be in range [0,1]\n",
    "    -Y should be a binary vector\n",
    "    Inputs\n",
    "    -pred: a numpy array reprsenting predictions made by the model\n",
    "    -Y : a numpy  array representing the target variable\n",
    "    Note that shape(pred) = shape(Y)\n",
    "    Returns\n",
    "    - loss : a scalar value to represent the loss\n",
    "    - d_pred : a vector of the same shape as pred. It represents the error\n",
    "            to be used for backpropogation(shape(d_pred) = shape(pred))\n",
    "    \"\"\"\n",
    "\n",
    "    # clipping the inputs so there is no overflow\n",
    "    epsilon = 1e-11\n",
    "    pred = np.clip(pred , epsilon, 1 - epsilon)\n",
    "    divisor = np.maximum(pred * (1-pred),epsilon)\n",
    "\n",
    "    N = Y.shape[0]\n",
    "\n",
    "    first_term = Y * np.log(pred)\n",
    "    second_term = (1 - Y) * np.log(1 - pred)\n",
    "    loss = -1  * np.mean( first_term + second_term ,axis =0)\n",
    "    \n",
    "\n",
    "    return loss"
   ]
  },
  {
   "cell_type": "markdown",
   "metadata": {},
   "source": [
    "### Metric Function"
   ]
  },
  {
   "cell_type": "code",
   "execution_count": 10,
   "metadata": {},
   "outputs": [],
   "source": [
    "\n",
    "def accuracy_binary(pred , Y):\n",
    "    \"\"\"\n",
    "    Computes the zero one accuracy for a binary classificatiion\n",
    "    Inputs:\n",
    "    -pred: Column vector representing probabilities of Class == 1\n",
    "    -Y: Binary column vector\n",
    "    \"\"\"\n",
    "    pred =pred > 0.5\n",
    "    acc = np.sum(pred == Y)\n",
    "    acc = float(acc) / len(Y)\n",
    "    return acc"
   ]
  },
  {
   "cell_type": "markdown",
   "metadata": {},
   "source": [
    "## Classification on MNIST Data"
   ]
  },
  {
   "cell_type": "markdown",
   "metadata": {},
   "source": [
    "Now that we have implemented our own Perceptron we can use it to classify a real world dataset.\n",
    "\n",
    "We will try to train our model to MNIST dataset.MNIST (\"Modified National Institute of Standards and Technology\") is the de facto “Hello World” dataset of computer vision. \n",
    "\n",
    " \n",
    "The MNIST database of handwritten digits, available from this page, has a training set of 60,000 examples, and a test set of 10,000 examples.\n",
    "\n",
    "You can download and checkout the various benchmarks at http://yann.lecun.com/exdb/mnist/ for MNIST.\n",
    "\n"
   ]
  },
  {
   "cell_type": "markdown",
   "metadata": {},
   "source": [
    "![title](img/MnistExamples.png)\n",
    "\n",
    "Example of some images in the dataset"
   ]
  },
  {
   "cell_type": "markdown",
   "metadata": {},
   "source": [
    "But as perceptron only does binary classification so we will do classification between number 0 and 1 only"
   ]
  },
  {
   "cell_type": "markdown",
   "metadata": {},
   "source": [
    "### Loading MNIST Data\n",
    "\n",
    "\n",
    "Download the data from the following link : https://www.kaggle.com/c/digit-recognizer/data"
   ]
  },
  {
   "cell_type": "code",
   "execution_count": 11,
   "metadata": {},
   "outputs": [],
   "source": [
    "import pandas as pd\n",
    "import matplotlib.pyplot as plt"
   ]
  },
  {
   "cell_type": "code",
   "execution_count": 12,
   "metadata": {},
   "outputs": [],
   "source": [
    "data = pd.read_csv('./train.csv')"
   ]
  },
  {
   "cell_type": "code",
   "execution_count": 13,
   "metadata": {},
   "outputs": [],
   "source": [
    "Y = data['label']\n",
    "\n",
    "X = data.drop('label' , axis = 1)"
   ]
  },
  {
   "cell_type": "markdown",
   "metadata": {},
   "source": [
    "Now we can see the dimensions of the data . MNIST has 28 x 28 pixel grayscale images which when flattened(converted to 1D) gives 784 size vector"
   ]
  },
  {
   "cell_type": "code",
   "execution_count": 14,
   "metadata": {},
   "outputs": [
    {
     "data": {
      "text/plain": [
       "(42000, 784)"
      ]
     },
     "execution_count": 14,
     "metadata": {},
     "output_type": "execute_result"
    }
   ],
   "source": [
    "X.shape"
   ]
  },
  {
   "cell_type": "code",
   "execution_count": 15,
   "metadata": {},
   "outputs": [
    {
     "data": {
      "text/plain": [
       "(42000,)"
      ]
     },
     "execution_count": 15,
     "metadata": {},
     "output_type": "execute_result"
    }
   ],
   "source": [
    "Y.shape"
   ]
  },
  {
   "cell_type": "code",
   "execution_count": 16,
   "metadata": {},
   "outputs": [],
   "source": [
    "## Extracting the data for 0 and 1 only\n",
    "\n",
    "X = X[(Y == 0) | (Y == 1)].reset_index(drop = True)\n",
    "Y  = Y[(Y == 0) | (Y == 1)].reset_index(drop = True)"
   ]
  },
  {
   "cell_type": "code",
   "execution_count": 17,
   "metadata": {},
   "outputs": [
    {
     "data": {
      "image/png": "[encoded data removed]",
      "text/plain": [
       "<Figure size 432x288 with 1 Axes>"
      ]
     },
     "metadata": {},
     "output_type": "display_data"
    }
   ],
   "source": [
    "#lets try plotting a image\n",
    "\n",
    "sample = 3 #try changing this number\n",
    "\n",
    "number = X.iloc[sample].values.reshape((28, 28))\n",
    "label = Y.iloc[sample]\n",
    "# Plot\n",
    "plt.title('Label is {label}'.format(label=label))\n",
    "plt.imshow(number, cmap='gray')\n",
    "plt.show()\n"
   ]
  },
  {
   "cell_type": "markdown",
   "metadata": {},
   "source": [
    "Now that we know and understand the data lets us try to train our model\n",
    "\n",
    "### Training Model"
   ]
  },
  {
   "cell_type": "code",
   "execution_count": 18,
   "metadata": {},
   "outputs": [],
   "source": [
    "# we first split the data into training and validation set\n",
    "from sklearn.model_selection import train_test_split\n",
    "train_x , test_x, train_y , test_y = train_test_split(X.values , Y.values.reshape(-1,1), test_size = 0.2)\n"
   ]
  },
  {
   "cell_type": "code",
   "execution_count": 19,
   "metadata": {},
   "outputs": [
    {
     "data": {
      "text/plain": [
       "(7052, 784)"
      ]
     },
     "execution_count": 19,
     "metadata": {},
     "output_type": "execute_result"
    }
   ],
   "source": [
    "train_x.shape"
   ]
  },
  {
   "cell_type": "code",
   "execution_count": 20,
   "metadata": {},
   "outputs": [
    {
     "data": {
      "text/plain": [
       "(7052, 1)"
      ]
     },
     "execution_count": 20,
     "metadata": {},
     "output_type": "execute_result"
    }
   ],
   "source": [
    "train_y.shape"
   ]
  },
  {
   "cell_type": "markdown",
   "metadata": {},
   "source": [
    "## Include Learning into the Perceptron\n",
    "\n",
    "Now we will modify our perceptron class to include perceptron learning algorithm.\n",
    "\n",
    "\n",
    "![image.png](img/learn.png)"
   ]
  },
  {
   "cell_type": "code",
   "execution_count": 28,
   "metadata": {},
   "outputs": [],
   "source": [
    "def step(x):\n",
    "    \"\"\" Implements the ReLU function. \"\"\"\n",
    "    return (x > 0 )\n",
    "\n",
    "\n",
    "\n",
    "class Perceptron:\n",
    "    \n",
    "    def __init__(self):\n",
    "        self.W = np.random.randn(784 , 1) #decalre an array of shape 784, 1(classication on MNIST DATA)\n",
    "        self.b = 0\n",
    "        \n",
    "    def forward_propagate(self , x):\n",
    "        print(self.W.shape)\n",
    "        return step(x.dot(self.W) + self.b)\n",
    "    \n",
    "    def update_weights(self, x , y , y_dash):\n",
    "        \n",
    "        if(y== 1 and y_dash== 0):\n",
    "            self.W = self.W + x.reshape(-1 , 1)\n",
    "            self.b = self.b + 1\n",
    "            \n",
    "        if(y== 0 and y_dash== 1):\n",
    "            self.W = self.W - x.reshape(-1 , 1)\n",
    "            self.b = self.b - 1\n",
    "            \n",
    "        \n",
    "        \n",
    "\n",
    "    def train(self,\n",
    "            X_train,\n",
    "            Y_train,\n",
    "            X_test,\n",
    "            Y_test,\n",
    "            metric_fn = accuracy_binary,\n",
    "            loss_fn = binary_cross_entropy,\n",
    "            epochs=200,\n",
    "            record_at = 10,\n",
    "            verbose = True):\n",
    "        \n",
    "        \n",
    "        \"\"\"\n",
    "        This function trains the neural network\n",
    "        Inputs:\n",
    "        - X_train : The training dataset\n",
    "        - Y_train : The training target values\n",
    "        - X_test : The testing dataset\n",
    "        - Y_test : The testing target values\n",
    "        - metric : The metric function for assesing the model (default : accuracy_binary)\n",
    "        - loss_function_string : The loss function (default : mean_square_error)\n",
    "        - epochs : The number of epochs for which the model will be trained (default : 200)\n",
    "        - record_at :  The epoch interval at which the loss and metric will be recorded (default : 100)\n",
    "        - Verbose : Display the statistics, metrics and progress of the model while training (default : True)\n",
    "        \n",
    "        \"\"\"\n",
    "        train_loss_his = []\n",
    "        train_acc_his = []\n",
    "        test_loss_his = []\n",
    "        test_acc_his = []\n",
    "        epoch_his = []\n",
    "\n",
    "        for i in range(epochs):\n",
    "            \n",
    "            for j in range(len(X_train)):\n",
    "                \n",
    "                x = X_train[j]\n",
    "                y = Y_train[j]\n",
    "                #print( i , j ,x.shape ,y.shape, y)\n",
    "                y_dash = self.forward_propagate(x)\n",
    "                \n",
    "                #print(i , j ,y_dash.shape, y_dash)\n",
    "            \n",
    "            \n",
    "                #loss= loss_fn(y_dash,Y_train)\n",
    "                self.update_weights(x , y , y_dash )\n",
    "                \n",
    "\n",
    "\n",
    "\n",
    "            if i % record_at == 0:\n",
    "                prediction = self.forward_propagate(X_train)\n",
    "                train_loss = loss_fn(prediction,Y_train)\n",
    "                train_acc = metric_fn(prediction,Y_train)\n",
    "\n",
    "                test_prediction  = self.forward_propagate(X_test)\n",
    "                test_loss= loss_fn(test_prediction,Y_test)\n",
    "                test_acc = metric_fn(test_prediction,Y_test)\n",
    "\n",
    "                train_loss_his.append(train_loss)\n",
    "                train_acc_his.append(train_acc)\n",
    "                test_loss_his.append(test_loss)\n",
    "                test_acc_his.append(test_acc)\n",
    "                epoch_his.append(i)\n",
    "\n",
    "                if verbose:\n",
    "                    print(\"{}th EPOCH:\\nTraining Loss:{}|Training Accuracy:{}|Test Loss:{}|Test Accuracy:{}\".\\\n",
    "                      format(i , train_loss , train_acc,test_loss,test_acc))\n",
    "        train_loss_his = np.array(train_loss_his).reshape(-1)\n",
    "        train_acc_his = np.array(train_acc_his).reshape(-1)\n",
    "        test_loss_his = np.array(test_loss_his).reshape(-1)\n",
    "        test_acc_his = np.array(test_acc_his).reshape(-1)\n",
    "        epoch_his = np.array(epoch_his).reshape(-1)\n",
    "        return train_loss_his,train_acc_his,test_loss_his,test_acc_his,epoch_his\n",
    "     \n",
    "    def metric_function(self,X,Y,metric_fn=accuracy_binary):\n",
    "        \n",
    "        prediction , _ = self.forward(X)\n",
    "        acc = metric_fn(prediction,Y)\n",
    "        return acc"
   ]
  },
  {
   "cell_type": "code",
   "execution_count": 31,
   "metadata": {
    "scrolled": true
   },
   "outputs": [
    {
     "name": "stdout",
     "output_type": "stream",
     "text": [
      "0th EPOCH: 0th iteration \n",
      " Training Loss:[18.19538523]|Training Accuracy:0.28162223482699944|Test Loss:[18.19224965]|Test Accuracy:0.28174603174603174\n",
      "0th EPOCH: 200th iteration \n",
      " Training Loss:[0.09697501]|Training Accuracy:0.9961712989222915|Test Loss:[0.11486819]|Test Accuracy:0.9954648526077098\n",
      "0th EPOCH: 400th iteration \n",
      " Training Loss:[0.57825839]|Training Accuracy:0.9771695972773681|Test Loss:[0.603058]|Test Accuracy:0.9761904761904762\n",
      "0th EPOCH: 600th iteration \n",
      " Training Loss:[0.03950834]|Training Accuracy:0.9984401588201929|Test Loss:[0.04307557]|Test Accuracy:0.9982993197278912\n",
      "0th EPOCH: 800th iteration \n",
      " Training Loss:[0.03950834]|Training Accuracy:0.9984401588201929|Test Loss:[0.04307557]|Test Accuracy:0.9982993197278912\n",
      "0th EPOCH: 1000th iteration \n",
      " Training Loss:[0.03950834]|Training Accuracy:0.9984401588201929|Test Loss:[0.04307557]|Test Accuracy:0.9982993197278912\n",
      "0th EPOCH: 1200th iteration \n",
      " Training Loss:[0.03950834]|Training Accuracy:0.9984401588201929|Test Loss:[0.04307557]|Test Accuracy:0.9982993197278912\n",
      "0th EPOCH: 1400th iteration \n",
      " Training Loss:[0.07901668]|Training Accuracy:0.9968803176403858|Test Loss:[0.0574341]|Test Accuracy:0.9977324263038548\n",
      "0th EPOCH: 1600th iteration \n",
      " Training Loss:[0.07901668]|Training Accuracy:0.9968803176403858|Test Loss:[0.0574341]|Test Accuracy:0.9977324263038548\n",
      "0th EPOCH: 1800th iteration \n",
      " Training Loss:[0.54234172]|Training Accuracy:0.9785876347135565|Test Loss:[0.58869947]|Test Accuracy:0.9767573696145124\n",
      "0th EPOCH: 2000th iteration \n",
      " Training Loss:[0.07542501]|Training Accuracy:0.9970221213840046|Test Loss:[0.10050967]|Test Accuracy:0.996031746031746\n",
      "0th EPOCH: 2200th iteration \n",
      " Training Loss:[0.05028334]|Training Accuracy:0.9980147475893364|Test Loss:[0.04307557]|Test Accuracy:0.9982993197278912\n",
      "0th EPOCH: 2400th iteration \n",
      " Training Loss:[0.05028334]|Training Accuracy:0.9980147475893364|Test Loss:[0.04307557]|Test Accuracy:0.9982993197278912\n",
      "0th EPOCH: 2600th iteration \n",
      " Training Loss:[0.05028334]|Training Accuracy:0.9980147475893364|Test Loss:[0.04307557]|Test Accuracy:0.9982993197278912\n",
      "0th EPOCH: 2800th iteration \n",
      " Training Loss:[0.11134168]|Training Accuracy:0.9956040839478162|Test Loss:[0.11486819]|Test Accuracy:0.9954648526077098\n",
      "0th EPOCH: 3000th iteration \n",
      " Training Loss:[0.11134168]|Training Accuracy:0.9956040839478162|Test Loss:[0.11486819]|Test Accuracy:0.9954648526077098\n",
      "0th EPOCH: 3200th iteration \n",
      " Training Loss:[0.01436667]|Training Accuracy:0.9994327850255247|Test Loss:[0.02871705]|Test Accuracy:0.9988662131519275\n",
      "0th EPOCH: 3400th iteration \n",
      " Training Loss:[0.01436667]|Training Accuracy:0.9994327850255247|Test Loss:[0.02871705]|Test Accuracy:0.9988662131519275\n",
      "0th EPOCH: 3600th iteration \n",
      " Training Loss:[0.06105834]|Training Accuracy:0.9975893363584799|Test Loss:[0.10050967]|Test Accuracy:0.996031746031746\n",
      "0th EPOCH: 3800th iteration \n",
      " Training Loss:[0.06105834]|Training Accuracy:0.9975893363584799|Test Loss:[0.10050967]|Test Accuracy:0.996031746031746\n",
      "0th EPOCH: 4000th iteration \n",
      " Training Loss:[0.06105834]|Training Accuracy:0.9975893363584799|Test Loss:[0.10050967]|Test Accuracy:0.996031746031746\n",
      "0th EPOCH: 4200th iteration \n",
      " Training Loss:[0.01795834]|Training Accuracy:0.9992909812819059|Test Loss:[0.02871705]|Test Accuracy:0.9988662131519275\n",
      "0th EPOCH: 4400th iteration \n",
      " Training Loss:[0.010775]|Training Accuracy:0.9995745887691435|Test Loss:[0.02871705]|Test Accuracy:0.9988662131519275\n",
      "0th EPOCH: 4600th iteration \n",
      " Training Loss:[0.010775]|Training Accuracy:0.9995745887691435|Test Loss:[0.02871705]|Test Accuracy:0.9988662131519275\n",
      "0th EPOCH: 4800th iteration \n",
      " Training Loss:[0.010775]|Training Accuracy:0.9995745887691435|Test Loss:[0.02871705]|Test Accuracy:0.9988662131519275\n",
      "0th EPOCH: 5000th iteration \n",
      " Training Loss:[0.04669167]|Training Accuracy:0.9981565513329552|Test Loss:[0.04307557]|Test Accuracy:0.9982993197278912\n",
      "0th EPOCH: 5200th iteration \n",
      " Training Loss:[0.04669167]|Training Accuracy:0.9981565513329552|Test Loss:[0.04307557]|Test Accuracy:0.9982993197278912\n",
      "0th EPOCH: 5400th iteration \n",
      " Training Loss:[0.04669167]|Training Accuracy:0.9981565513329552|Test Loss:[0.04307557]|Test Accuracy:0.9982993197278912\n",
      "0th EPOCH: 5600th iteration \n",
      " Training Loss:[0.04669167]|Training Accuracy:0.9981565513329552|Test Loss:[0.04307557]|Test Accuracy:0.9982993197278912\n",
      "0th EPOCH: 5800th iteration \n",
      " Training Loss:[0.04669167]|Training Accuracy:0.9981565513329552|Test Loss:[0.04307557]|Test Accuracy:0.9982993197278912\n",
      "0th EPOCH: 6000th iteration \n",
      " Training Loss:[0.04669167]|Training Accuracy:0.9981565513329552|Test Loss:[0.04307557]|Test Accuracy:0.9982993197278912\n",
      "0th EPOCH: 6200th iteration \n",
      " Training Loss:[0.03591667]|Training Accuracy:0.9985819625638117|Test Loss:[0.07179262]|Test Accuracy:0.9971655328798186\n",
      "0th EPOCH: 6400th iteration \n",
      " Training Loss:[0.03591667]|Training Accuracy:0.9985819625638117|Test Loss:[0.07179262]|Test Accuracy:0.9971655328798186\n",
      "0th EPOCH: 6600th iteration \n",
      " Training Loss:[0.03591667]|Training Accuracy:0.9985819625638117|Test Loss:[0.07179262]|Test Accuracy:0.9971655328798186\n",
      "0th EPOCH: 6800th iteration \n",
      " Training Loss:[0.09338334]|Training Accuracy:0.9963131026659103|Test Loss:[0.08615114]|Test Accuracy:0.9965986394557823\n",
      "0th EPOCH: 7000th iteration \n",
      " Training Loss:[0.09338334]|Training Accuracy:0.9963131026659103|Test Loss:[0.08615114]|Test Accuracy:0.9965986394557823\n"
     ]
    }
   ],
   "source": [
    "model = Perceptron()\n",
    "\n",
    "train_loss_his,train_acc_his,test_loss_his,test_acc_his,epoch_his=model.train(train_x , train_y, test_x , test_y,\n",
    "            metric_fn = accuracy_binary,\n",
    "            loss_fn=binary_cross_entropy,\n",
    "            epochs=20,\n",
    "            record_at=200)"
   ]
  },
  {
   "cell_type": "code",
   "execution_count": 32,
   "metadata": {},
   "outputs": [
    {
     "data": {
      "image/png": "[encoded data removed]",
      "text/plain": [
       "<Figure size 432x288 with 1 Axes>"
      ]
     },
     "metadata": {},
     "output_type": "display_data"
    },
    {
     "data": {
      "image/png": "[encoded data removed]",
      "text/plain": [
       "<Figure size 432x288 with 1 Axes>"
      ]
     },
     "metadata": {},
     "output_type": "display_data"
    }
   ],
   "source": [
    "plot_loss(epoch_his,train_loss_his,test_loss_his)\n",
    "plot_accuracy(epoch_his,train_acc_his,test_acc_his)"
   ]
  },
  {
   "cell_type": "code",
   "execution_count": null,
   "metadata": {},
   "outputs": [],
   "source": []
  }
 ],
 "metadata": {
  "kernelspec": {
   "display_name": "Python 3",
   "language": "python",
   "name": "python3"
  },
  "language_info": {
   "codemirror_mode": {
    "name": "ipython",
    "version": 3
   },
   "file_extension": ".py",
   "mimetype": "text/x-python",
   "name": "python",
   "nbconvert_exporter": "python",
   "pygments_lexer": "ipython3",
   "version": "3.6.8"
  }
 },
 "nbformat": 4,
 "nbformat_minor": 2
}
