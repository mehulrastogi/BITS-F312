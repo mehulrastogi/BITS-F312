{
 "cells": [
  {
   "cell_type": "markdown",
   "metadata": {},
   "source": [
    "# Lab 02 : Multi Layer Perceptron"
   ]
  },
  {
   "cell_type": "code",
   "execution_count": 27,
   "metadata": {},
   "outputs": [],
   "source": [
    "import numpy"
   ]
  },
  {
   "cell_type": "markdown",
   "metadata": {},
   "source": [
    "## Multilayer Perceptron Network"
   ]
  },
  {
   "cell_type": "markdown",
   "metadata": {},
   "source": [
    "![image.png](img/2.png)\n",
    "\n",
    "Source:http://www.texample.net/tikz/examples/neural-network/"
   ]
  },
  {
   "cell_type": "markdown",
   "metadata": {},
   "source": [
    "Now that we have seen a single perceptron we will try to use the above concepts to make MLP network using Numpy from scratch"
   ]
  },
  {
   "cell_type": "markdown",
   "metadata": {},
   "source": [
    "Now there are some building blocks that we will be using :-\n",
    "\n",
    " - <b>Dense Layer</b> : A fully connected Neural Net Layer.\n",
    "             \n",
    "               f(X) = W . X + b\n",
    "               \n",
    "               W : Matrix of weights\n",
    "               X : Inputs\n",
    "               b : Bias\n",
    "               \n",
    " - <b>Activation Layer</b> : Layer to introduce non linearlity (Why is this important?)\n",
    " - <b>Loss Function</b> : (Binary or Cross Entropy Loss)\n",
    " - <b>Back Propogation Algorithm</b> : a stochastic gradient descent algortihm\n",
    " \n",
    " \n",
    " You can go through the code for the exact architecture to incoporate these blocks"
   ]
  },
  {
   "cell_type": "code",
   "execution_count": 34,
   "metadata": {},
   "outputs": [],
   "source": [
    "import numpy as np\n",
    "import matplotlib.pyplot as plt\n"
   ]
  },
  {
   "cell_type": "markdown",
   "metadata": {},
   "source": [
    "### Functions for plotting graphs"
   ]
  },
  {
   "cell_type": "code",
   "execution_count": 35,
   "metadata": {},
   "outputs": [],
   "source": [
    "'''\n",
    "\n",
    "Ignore this part. Just helper functions.\n",
    "\n",
    "'''\n",
    "\n",
    "def plot_loss(epoch_his, train_loss_his, test_loss_his):\n",
    "    train_line, = plt.plot(epoch_his,train_loss_his,label = 'train')\n",
    "    test_line, = plt.plot(epoch_his,test_loss_his,label = 'test')\n",
    "    plt.xlabel('EPOCHS')\n",
    "    plt.ylabel('Loss')\n",
    "    plt.legend([train_line, test_line] , ['train','test'])\n",
    "    plt.show()\n",
    "\n",
    "def plot_accuracy(epoch_his, train_acc_his, test_acc_his):\n",
    "    train_line, = plt.plot(epoch_his,train_acc_his,label = 'train')\n",
    "    test_line, = plt.plot(epoch_his,test_acc_his,label = 'test')\n",
    "    plt.xlabel('EPOCHS')\n",
    "    plt.ylabel('Accuracy')\n",
    "    plt.legend([train_line, test_line] , ['train','test'])\n",
    "    plt.show()\n",
    "\n"
   ]
  },
  {
   "cell_type": "markdown",
   "metadata": {},
   "source": [
    "### Activation Function"
   ]
  },
  {
   "cell_type": "code",
   "execution_count": 36,
   "metadata": {},
   "outputs": [],
   "source": [
    "\n",
    "def relu(z):\n",
    "    \"\"\"\n",
    "    Relu Activation\n",
    "    Inputs:\n",
    "    - z : A 2D numpy array\n",
    "    \"\"\"\n",
    "    \n",
    "    #Hint: Use Broadcasting\n",
    "    pass\n",
    "\n",
    "def relu_back(z):\n",
    "    \"\"\"\n",
    "    Backpropogation for Relu Activation\n",
    "    Inputs:\n",
    "    - z : A 2D numpy array\n",
    "    \"\"\"\n",
    "    \n",
    "    #try to differentiate the relu function\n",
    "    #Hint : use astype to convert to float64 format\n",
    "    pass"
   ]
  },
  {
   "cell_type": "markdown",
   "metadata": {},
   "source": [
    "### Backpropogation"
   ]
  },
  {
   "cell_type": "markdown",
   "metadata": {},
   "source": [
    "Before we move forward lets revise backpropogation.\n",
    "\n",
    "![image.png](img/back_prop.png)\n",
    "\n",
    "Source:https://math.stackexchange.com/questions/2503428/derivative-of-binary-cross-entropy-why-are-my-signs-not-right"
   ]
  },
  {
   "cell_type": "markdown",
   "metadata": {},
   "source": [
    "# Binary Cross Entropy\n",
    "\n",
    "\n",
    "![image.png](img/cross.png)"
   ]
  },
  {
   "cell_type": "code",
   "execution_count": 37,
   "metadata": {},
   "outputs": [],
   "source": [
    "\n",
    "def binary_cross_entropy(pred , Y):\n",
    "    \"\"\"\n",
    "    The binary cross entropy loss.\n",
    "    Note\n",
    "    -pred should be in range [0,1]\n",
    "    -Y should be a binary vector\n",
    "    Inputs\n",
    "    -pred: a numpy array reprsenting predictions made by the model\n",
    "    -Y : a numpy  array representing the target variable\n",
    "    Note that shape(pred) = shape(Y)\n",
    "    Returns\n",
    "    - loss : a scalar value to represent the loss\n",
    "    - d_pred : a vector of the same shape as pred variable. It represents the error\n",
    "            to be used for backpropogation(shape(d_pred) = shape(pred))\n",
    "    \"\"\"\n",
    "\n",
    "    # clipping the inputs so there is no overflow\n",
    "    epsilon = 1e-11\n",
    "    pred = np.clip(pred , epsilon, 1 - epsilon)\n",
    "    divisor = np.maximum(pred * (1-pred),epsilon) #to be used in calculation of d_pred\n",
    "\n",
    "    N = Y.shape[0]\n",
    "\n",
    "    #HINT : use np.nan_to_num() if the division is going out of bounds\n",
    "    \n",
    "    #CACULATE THE LOSS\n",
    "    \n",
    "    #CALCULATE THE d_Loss/d_pred\n",
    "    \n",
    "    \n",
    "\n",
    "    return loss,d_pred"
   ]
  },
  {
   "cell_type": "markdown",
   "metadata": {},
   "source": [
    "### Metric Function -- Accuracy"
   ]
  },
  {
   "cell_type": "code",
   "execution_count": 38,
   "metadata": {},
   "outputs": [],
   "source": [
    "\n",
    "def accuracy_binary(pred , Y):\n",
    "    \"\"\"\n",
    "    Computes the zero one accuracy for a binary classificatiion\n",
    "    Inputs:\n",
    "    -pred: Column vector representing probabilities of Class == 1\n",
    "    -Y: Binary column vector\n",
    "    \"\"\"\n",
    "    pred =pred > 0.5\n",
    "    acc = np.sum(pred == Y)\n",
    "    acc = float(acc) / len(Y)\n",
    "    return acc"
   ]
  },
  {
   "cell_type": "markdown",
   "metadata": {},
   "source": [
    "## Perceptron Layer Class"
   ]
  },
  {
   "cell_type": "markdown",
   "metadata": {},
   "source": [
    "Let's try to wrap everything together...."
   ]
  },
  {
   "cell_type": "code",
   "execution_count": 39,
   "metadata": {},
   "outputs": [],
   "source": [
    "class PerceptronLayer:\n",
    "    \"\"\"\n",
    "    A fully connected layer for a neural network with RelU activation.\n",
    "    This will be used to make a MultiLayerPerceptron that uses modular design.\n",
    "    (The neural network architecture is defined by the user.)\n",
    "    Note that this class does not implement any learning function. This class\n",
    "    is to initialize layers in a multi layer perceptron model efficiently.\n",
    "    The learnable parameters of the model are stored in as variables _self.W_,_self.b_\n",
    "    \"\"\"\n",
    "\n",
    "    def __init__(self,l0,l1):\n",
    "        \"\"\"\n",
    "        Initialize a layer of the network\n",
    "        Inputs:\n",
    "         - l0: an integer giving size of the input i.e. the size of previous layer\n",
    "         - l1: an integer giving size of the output i.e the size of layer\n",
    "         - activation: a string giving activation function of this layer\n",
    "                    (default value:'linear')\n",
    "        \"\"\"\n",
    "        \n",
    "        #INITIALIZE W  , b using np.random.randn with approriate shapes\n",
    "        #HINT: use astype to convert array to np.float64\n",
    "        \n",
    "        '''\n",
    "        TO BE COMPLETED\n",
    "        \n",
    "        self.W = #shape (l0, l1)\n",
    "        self.b = #shape l1\n",
    "        \n",
    "        \n",
    "        \n",
    "\n",
    "        self.act_fn = # this should refer to your activation function\n",
    "        self.act_fn_back = #this should refer to the back propogation of the activated function\n",
    "        '''\n",
    "\n",
    "        # CHECK IF RIGHT LAYERS DECLAYERED\n",
    "        print(self.W.shape , self.b.shape)\n",
    "        print(self.act_fn)\n",
    "\n",
    "    def forward(self,X):\n",
    "        \"\"\"\n",
    "        This function performs the Forward propogation of a layer\n",
    "        \n",
    "        Return:\n",
    "        \n",
    "            h_x:Output before applying activation (X.W + b)\n",
    "            a : Output after applying activation (ac_fn(h_x))\n",
    "        \"\"\"\n",
    "\n",
    "        \n",
    "        h_x = #fill this\n",
    "\n",
    "        a = #fill this\n",
    "        \n",
    "        return a,h_x\n",
    "\n",
    "\n",
    "\n",
    "    def update_batch_gradient_descent(self , X , h_x , d_back,alpha = 0.01):\n",
    "        \"\"\"\n",
    "        This function performs the weight update of a layer using the Gradient descent optimizer\n",
    "        Inputs:\n",
    "        - X : The input to the layer\n",
    "        - h_x : The predicted output of the layer\n",
    "        - d_back : Gradients from front layers calculated using backpropogation\n",
    "        - alpha : The learning rate (Default : 0.01)\n",
    "        \"\"\"\n",
    "\n",
    "        # dloss/d(a) * d(a) / d(h_x)\n",
    "        \n",
    "        d_h_x = ##??????\n",
    "        #Derivating w.r.t W\n",
    "        # dloss/d(h_x) * d(h_x) / d(W)\n",
    "        \n",
    "\n",
    "        d_W = #???????????\n",
    "\n",
    "        #Derivatng w.r.t b\n",
    "        # dloss/d(h_x) * d(h_x) / d(b)\n",
    "        d_b = #??????????\n",
    "\n",
    "        #Derivating w.r.t x(to return to previous layers)\n",
    "        # dloss/d(h_x) * d(h_x) / d(X)\n",
    "        d_X = #????????\n",
    "\n",
    "        #Update W\n",
    "        #print(\"W_before = \", self.W)\n",
    "        delta_W = #???????\n",
    "        self.W = #??????\n",
    "        #print(\"W_after = \",self.W)\n",
    "\n",
    "        #Update b\n",
    "        delta_b = #????????\n",
    "        self.b = #?????????\n",
    "\n",
    "        d_back = d_X\n",
    "        \n",
    "        return d_back\n"
   ]
  },
  {
   "cell_type": "code",
   "execution_count": 40,
   "metadata": {},
   "outputs": [],
   "source": [
    "\n",
    "class MultiLayerPerceptron:\n",
    "    \"\"\"\n",
    "    This is the class for making a multi-layer neural network by using the PerceptronLayer class\n",
    "    \"\"\"\n",
    "\n",
    "    def __init__(self ,layer_list = None):\n",
    "        \"\"\"\n",
    "        Initialize the neural networks by creating objects of the PerceptronLayer class\n",
    "        Inputs:\n",
    "         - layer_list: list of layer sizes\n",
    "         - activation_list: list of activation functions for each layer\n",
    "        \"\"\"\n",
    "\n",
    "        if layer_list == None:\n",
    "            raise Exception('layer_list cant be empty')\n",
    "        \n",
    "        self.hidden_layers= len(layer_list) - 1\n",
    "\n",
    "        self.layers = {}\n",
    "        \n",
    "        for i in range(self.hidden_layers):\n",
    "            self.layers[i+1] = PerceptronLayer(layer_list[i] , layer_list[i+1])\n",
    "\n",
    "\n",
    "    def forward(self , X):\n",
    "        \"\"\"\n",
    "        This function performs the forward propogation on the neural network\n",
    "        Inputs:\n",
    "        - X : Input to the neural network\n",
    "        \"\"\"\n",
    "\n",
    "        a = X\n",
    "        cache = []\n",
    "        cache.append(a)\n",
    "        for i in range(self.hidden_layers):\n",
    "            a,h_x = self.layers[i+1].forward(a)\n",
    "            cache.append(h_x)\n",
    "\n",
    "        return a,cache\n",
    "\n",
    "    def update_gradient(self, cache, d_back , alpha=0.01):\n",
    "        \"\"\"\n",
    "        This function performs backpropogation and uses the Gradient descent optimizer for updating weights\n",
    "        Inputs :\n",
    "        - cache : The values required for backpropogation corresponing to a layer\n",
    "        - d_back : The gradients from front layers during backpropogation\n",
    "        - alpha : the learningrate (default : 0.01)\n",
    "        \"\"\"\n",
    "\n",
    "        for i in range(self.hidden_layers , 0 , -1):\n",
    "            \n",
    "            d_back = self.layers[i].update_batch_gradient_descent(cache[i-1],cache[i],d_back,alpha)\n",
    "\n",
    "        return d_back\n",
    "\n",
    "\n",
    "    def train(self,\n",
    "            X_train,\n",
    "            Y_train,\n",
    "            X_test,\n",
    "            Y_test,\n",
    "            metric_fn = accuracy_binary,\n",
    "            loss_fn = binary_cross_entropy,\n",
    "            epochs=200,\n",
    "            record_at = 100,\n",
    "            verbose = True,\n",
    "            learning_rate =0.1,\n",
    "            learning_rate_decay = False):\n",
    "\n",
    "        \"\"\"\n",
    "        This function trains the neural network\n",
    "        Inputs:\n",
    "        - X_train : The training dataset\n",
    "        - Y_train : The training target values\n",
    "        - X_test : The testing dataset\n",
    "        - Y_test : The testing target values\n",
    "        - metric : The metric function for assesing the model (default : accuracy_binary)\n",
    "        - loss_function_string : The loss function (default : mean_square_error)\n",
    "        - epochs : The number of epochs for which the model will be trained (default : 200)\n",
    "        - record_at :  The epoch interval at which the loss and metric will be recorded (default : 100)\n",
    "        - Verbose : Display the statistics, metrics and progress of the model while training (default : True)\n",
    "        - learning_rate : the learning rate (default : 0.1)\n",
    "        - learning_rate_decay : Decaying the learning rate (default : False)\n",
    "        \"\"\"\n",
    "        \n",
    "\n",
    "\n",
    "        \n",
    "        train_loss_his = []\n",
    "        train_acc_his = []\n",
    "        test_loss_his = []\n",
    "        test_acc_his = []\n",
    "        epoch_his = []\n",
    "\n",
    "        for i in range(epochs):\n",
    "            prediction , cache = self.forward(X_train)\n",
    "            \n",
    "            \n",
    "            loss,d_back= loss_fn(prediction,Y_train)\n",
    "            self.update_gradient(cache,d_back,learning_rate)\n",
    "            if learning_rate_decay:\n",
    "                learning_rate *= (1.0 / 1.0 + i)\n",
    "\n",
    "\n",
    "\n",
    "            if i % record_at == 0:\n",
    "                train_loss,_ = loss_fn(prediction,Y_train)\n",
    "                train_acc = metric_fn(prediction,Y_train)\n",
    "\n",
    "                test_prediction , _ = self.forward(X_test)\n",
    "                test_loss,_ = loss_fn(test_prediction,Y_test)\n",
    "                test_acc = metric_fn(test_prediction,Y_test)\n",
    "\n",
    "                train_loss_his.append(train_loss)\n",
    "                train_acc_his.append(train_acc)\n",
    "                test_loss_his.append(test_loss)\n",
    "                test_acc_his.append(test_acc)\n",
    "                epoch_his.append(i)\n",
    "\n",
    "                if verbose:\n",
    "                    print(\"{}th EPOCH:\\nTraining Loss:{}|Training Accuracy:{}|Test Loss:{}|Test Accuracy:{}\".\\\n",
    "                      format(i , train_loss , train_acc,test_loss,test_acc))\n",
    "        train_loss_his = np.array(train_loss_his).reshape(-1)\n",
    "        train_acc_his = np.array(train_acc_his).reshape(-1)\n",
    "        test_loss_his = np.array(test_loss_his).reshape(-1)\n",
    "        test_acc_his = np.array(test_acc_his).reshape(-1)\n",
    "        epoch_his = np.array(epoch_his).reshape(-1)\n",
    "        return train_loss_his,train_acc_his,test_loss_his,test_acc_his,epoch_his\n",
    "     \n",
    "    def metric_function(self,X,Y,metric_fn=accuracy_binary):\n",
    "        \n",
    "        prediction , _ = self.forward(X)\n",
    "        acc = metric_fn(prediction,Y)\n",
    "        return acc"
   ]
  },
  {
   "cell_type": "markdown",
   "metadata": {},
   "source": [
    "Lets us now test our model on XOR data. You can look at more extensive examples using different architectures and on different datasets [here](https://github.com/mehulrastogi/Neural-Network-Assignments/blob/master/Assignment-3/Perceptron.ipynb)"
   ]
  },
  {
   "cell_type": "code",
   "execution_count": 41,
   "metadata": {},
   "outputs": [],
   "source": [
    "#############################################\n",
    "## Declaring Training Data        ############\n",
    "#############################################\n",
    "\n",
    "# this is just for testing the MLP model that we have made [XOR DATA]\n",
    "X_train = np.array([[0,0],[1,0],[0,1],[1,1]])\n",
    "Y_train = np.array([[1],[0],[0],[0]])\n",
    "\n"
   ]
  },
  {
   "cell_type": "code",
   "execution_count": 68,
   "metadata": {},
   "outputs": [
    {
     "data": {
      "text/plain": [
       "(4, 2)"
      ]
     },
     "execution_count": 68,
     "metadata": {},
     "output_type": "execute_result"
    }
   ],
   "source": [
    "X_train.shape"
   ]
  },
  {
   "cell_type": "code",
   "execution_count": 69,
   "metadata": {},
   "outputs": [
    {
     "data": {
      "text/plain": [
       "(4, 1)"
      ]
     },
     "execution_count": 69,
     "metadata": {},
     "output_type": "execute_result"
    }
   ],
   "source": [
    "Y_train.shape"
   ]
  },
  {
   "cell_type": "code",
   "execution_count": 42,
   "metadata": {},
   "outputs": [
    {
     "name": "stdout",
     "output_type": "stream",
     "text": [
      "(2, 1) (1,)\n",
      "<function relu at 0x7f0cbafdcae8>\n"
     ]
    }
   ],
   "source": [
    "# Declare a neuron with shape of weights as [shape_of_input,1]\n",
    "model = MultiLayerPerceptron([2,1])"
   ]
  },
  {
   "cell_type": "code",
   "execution_count": 43,
   "metadata": {},
   "outputs": [],
   "source": [
    "# testing the model outputs\n",
    "pred, _ = model.forward(X_train)"
   ]
  },
  {
   "cell_type": "code",
   "execution_count": 44,
   "metadata": {},
   "outputs": [
    {
     "name": "stdout",
     "output_type": "stream",
     "text": [
      "The loss is [19.0047374]\n",
      "And the error to be back propogated is:\n",
      " [[-2.50000000e+10]\n",
      " [ 2.49999979e+10]\n",
      " [ 2.58553490e-01]\n",
      " [ 2.49999979e+10]]\n"
     ]
    }
   ],
   "source": [
    "#Testing the model before training\n",
    "\n",
    "loss,d_back = binary_cross_entropy(pred,Y_train)\n",
    "print(\"The loss is {}\\nAnd the error to be back propogated is:\\n {}\".format(loss , d_back))"
   ]
  },
  {
   "cell_type": "code",
   "execution_count": 47,
   "metadata": {},
   "outputs": [
    {
     "name": "stdout",
     "output_type": "stream",
     "text": [
      "(2, 3) (3,)\n",
      "<function relu at 0x7f0cbafdcae8>\n",
      "(3, 1) (1,)\n",
      "<function relu at 0x7f0cbafdcae8>\n",
      "0th EPOCH:\n",
      "Training Loss:[6.69360651]|Training Accuracy:0.5|Test Loss:[6.33210901]|Test Accuracy:0.75\n",
      "100th EPOCH:\n",
      "Training Loss:[6.33210901]|Training Accuracy:0.75|Test Loss:[6.33210901]|Test Accuracy:0.75\n",
      "200th EPOCH:\n",
      "Training Loss:[6.33210901]|Training Accuracy:0.75|Test Loss:[6.33210901]|Test Accuracy:0.75\n",
      "300th EPOCH:\n",
      "Training Loss:[6.33210901]|Training Accuracy:0.75|Test Loss:[6.33210901]|Test Accuracy:0.75\n",
      "400th EPOCH:\n",
      "Training Loss:[6.33210901]|Training Accuracy:0.75|Test Loss:[6.33210901]|Test Accuracy:0.75\n",
      "500th EPOCH:\n",
      "Training Loss:[6.33210901]|Training Accuracy:0.75|Test Loss:[6.33210901]|Test Accuracy:0.75\n",
      "600th EPOCH:\n",
      "Training Loss:[6.33210901]|Training Accuracy:0.75|Test Loss:[6.33210901]|Test Accuracy:0.75\n",
      "700th EPOCH:\n",
      "Training Loss:[6.33210901]|Training Accuracy:0.75|Test Loss:[6.33210901]|Test Accuracy:0.75\n",
      "800th EPOCH:\n",
      "Training Loss:[6.33210901]|Training Accuracy:0.75|Test Loss:[6.33210901]|Test Accuracy:0.75\n",
      "900th EPOCH:\n",
      "Training Loss:[6.33210901]|Training Accuracy:0.75|Test Loss:[6.33210901]|Test Accuracy:0.75\n"
     ]
    }
   ],
   "source": [
    "# Now we can train the model by iteratively on each datapoint.\n",
    "layer_list = [2,3,1]\n",
    "\n",
    "model = MultiLayerPerceptron(layer_list)\n",
    "\n",
    "\n",
    "\n",
    "train_loss_his,train_acc_his,test_loss_his,test_acc_his,epoch_his=model.train(X_train,\n",
    "            Y_train,\n",
    "            X_train,\n",
    "            Y_train,\n",
    "            metric_fn = accuracy_binary,\n",
    "            loss_fn=binary_cross_entropy,\n",
    "            epochs=1000,\n",
    "            record_at=100)"
   ]
  },
  {
   "cell_type": "code",
   "execution_count": 48,
   "metadata": {},
   "outputs": [
    {
     "data": {
      "text/plain": [
       "0.75"
      ]
     },
     "execution_count": 48,
     "metadata": {},
     "output_type": "execute_result"
    }
   ],
   "source": [
    "\n",
    "\n",
    "# Now we can predict the values for unseen data or trained data also\n",
    "# We can also calculate the accuracy of the model we have trained\n",
    "model.metric_function(X_train,Y_train,metric_fn = accuracy_binary)\n"
   ]
  },
  {
   "cell_type": "code",
   "execution_count": 49,
   "metadata": {},
   "outputs": [
    {
     "data": {
      "image/png": "[encoded data removed]",
      "text/plain": [
       "<Figure size 432x288 with 1 Axes>"
      ]
     },
     "metadata": {},
     "output_type": "display_data"
    },
    {
     "data": {
      "image/png": "[encoded data removed]",
      "text/plain": [
       "<Figure size 432x288 with 1 Axes>"
      ]
     },
     "metadata": {},
     "output_type": "display_data"
    }
   ],
   "source": [
    "plot_loss(epoch_his,train_loss_his,test_loss_his)\n",
    "plot_accuracy(epoch_his,train_acc_his,test_acc_his)"
   ]
  },
  {
   "cell_type": "markdown",
   "metadata": {},
   "source": [
    "# Multiclass Classification (MNIST Data)"
   ]
  },
  {
   "cell_type": "markdown",
   "metadata": {},
   "source": [
    "Now that we have implemented our own MLP we can use it to classify a real world dataset.\n",
    "\n",
    "We will try to train our model to MNIST dataset.MNIST (\"Modified National Institute of Standards and Technology\") is the de facto “Hello World” dataset of computer vision. \n",
    "\n",
    " \n",
    "The MNIST database of handwritten digits, available from this page, has a training set of 60,000 examples, and a test set of 10,000 examples.\n",
    "\n",
    "You can download and checkout the various benchmarks at http://yann.lecun.com/exdb/mnist/ for MNIST.\n",
    "\n"
   ]
  },
  {
   "cell_type": "markdown",
   "metadata": {},
   "source": [
    "![title](img/MnistExamples.png)\n",
    "\n",
    "Example of some images in the dataset"
   ]
  },
  {
   "cell_type": "markdown",
   "metadata": {},
   "source": [
    "### Loading MNIST Data\n",
    "\n",
    "\n",
    "Download the data from the following link : https://www.kaggle.com/c/digit-recognizer/data"
   ]
  },
  {
   "cell_type": "code",
   "execution_count": 52,
   "metadata": {},
   "outputs": [],
   "source": [
    "import pandas as pd\n",
    "import matplotlib.pyplot as plt"
   ]
  },
  {
   "cell_type": "code",
   "execution_count": 53,
   "metadata": {},
   "outputs": [],
   "source": [
    "data = pd.read_csv('./train.csv')"
   ]
  },
  {
   "cell_type": "code",
   "execution_count": 54,
   "metadata": {},
   "outputs": [],
   "source": [
    "Y = data['label']\n",
    "\n",
    "X = data.drop('label' , axis = 1)"
   ]
  },
  {
   "cell_type": "markdown",
   "metadata": {},
   "source": [
    "Now we can see the dimensions of the data . MNIST has 28 x 28 pixel grayscale images which when flattened(converted to 1D) gives 784 size vector"
   ]
  },
  {
   "cell_type": "code",
   "execution_count": 55,
   "metadata": {},
   "outputs": [
    {
     "data": {
      "text/plain": [
       "(42000, 784)"
      ]
     },
     "execution_count": 55,
     "metadata": {},
     "output_type": "execute_result"
    }
   ],
   "source": [
    "X.shape"
   ]
  },
  {
   "cell_type": "code",
   "execution_count": 56,
   "metadata": {},
   "outputs": [
    {
     "data": {
      "text/plain": [
       "(42000,)"
      ]
     },
     "execution_count": 56,
     "metadata": {},
     "output_type": "execute_result"
    }
   ],
   "source": [
    "Y.shape"
   ]
  },
  {
   "cell_type": "code",
   "execution_count": 57,
   "metadata": {},
   "outputs": [
    {
     "data": {
      "image/png": "[encoded data removed]",
      "text/plain": [
       "<Figure size 432x288 with 1 Axes>"
      ]
     },
     "metadata": {},
     "output_type": "display_data"
    }
   ],
   "source": [
    "#lets try plotting a image\n",
    "\n",
    "sample = 5 #try changing this number\n",
    "\n",
    "number = X.iloc[sample].values.reshape((28, 28))\n",
    "label = Y.iloc[sample]\n",
    "# Plot\n",
    "plt.title('Label is {label}'.format(label=label))\n",
    "plt.imshow(number, cmap='gray')\n",
    "plt.show()\n"
   ]
  },
  {
   "cell_type": "markdown",
   "metadata": {},
   "source": [
    "Now that we know and understand the data lets us try to train our model\n",
    "\n",
    "### Training Model"
   ]
  },
  {
   "cell_type": "code",
   "execution_count": 71,
   "metadata": {},
   "outputs": [],
   "source": [
    "# we first split the data into training and validation set\n",
    "from sklearn.model_selection import train_test_split\n",
    "train_x , test_x, train_y , test_y = train_test_split(X.values , Y.values.reshape(-1,1), test_size = 0.2)\n"
   ]
  },
  {
   "cell_type": "code",
   "execution_count": 72,
   "metadata": {},
   "outputs": [
    {
     "data": {
      "text/plain": [
       "(33600, 784)"
      ]
     },
     "execution_count": 72,
     "metadata": {},
     "output_type": "execute_result"
    }
   ],
   "source": [
    "train_x.shape"
   ]
  },
  {
   "cell_type": "code",
   "execution_count": 73,
   "metadata": {},
   "outputs": [
    {
     "data": {
      "text/plain": [
       "(33600, 1)"
      ]
     },
     "execution_count": 73,
     "metadata": {},
     "output_type": "execute_result"
    }
   ],
   "source": [
    "train_y.shape"
   ]
  },
  {
   "cell_type": "markdown",
   "metadata": {},
   "source": [
    "Now we understand the concepts of an MLP network we can work with the boiler plate algorithms provided by sklearn library. This in addition to the gradient descent algorithm provides us many other learning techninques. (adam , early stopping , etc)\n",
    "\n",
    "You can read about these techniques more here : https://scikit-learn.org/stable/modules/generated/sklearn.neural_network.MLPClassifier.html"
   ]
  },
  {
   "cell_type": "code",
   "execution_count": 93,
   "metadata": {},
   "outputs": [],
   "source": [
    "from sklearn.neural_network import MLPClassifier\n",
    "\n",
    "\n",
    "mlp = #initialize the classifier \n"
   ]
  },
  {
   "cell_type": "code",
   "execution_count": 94,
   "metadata": {},
   "outputs": [
    {
     "name": "stderr",
     "output_type": "stream",
     "text": [
      "/home/mehul/.local/lib/python3.6/site-packages/sklearn/neural_network/multilayer_perceptron.py:916: DataConversionWarning: A column-vector y was passed when a 1d array was expected. Please change the shape of y to (n_samples, ), for example using ravel().\n",
      "  y = column_or_1d(y, warn=True)\n"
     ]
    },
    {
     "name": "stdout",
     "output_type": "stream",
     "text": [
      "Iteration 1, loss = 3.37075558\n",
      "Iteration 2, loss = 1.18247687\n",
      "Iteration 3, loss = 0.74531228\n",
      "Iteration 4, loss = 0.50335825\n",
      "Iteration 5, loss = 0.35059299\n",
      "Iteration 6, loss = 0.26323034\n",
      "Iteration 7, loss = 0.19777507\n",
      "Iteration 8, loss = 0.16725208\n",
      "Iteration 9, loss = 0.12114521\n",
      "Iteration 10, loss = 0.11010317\n",
      "Iteration 11, loss = 0.09048285\n",
      "Iteration 12, loss = 0.08700305\n",
      "Iteration 13, loss = 0.07646963\n",
      "Iteration 14, loss = 0.08262454\n",
      "Iteration 15, loss = 0.06886162\n",
      "Iteration 16, loss = 0.08321271\n",
      "Iteration 17, loss = 0.08342101\n",
      "Iteration 18, loss = 0.08577355\n",
      "Iteration 19, loss = 0.08421365\n",
      "Iteration 20, loss = 0.09809289\n"
     ]
    },
    {
     "name": "stderr",
     "output_type": "stream",
     "text": [
      "/home/mehul/.local/lib/python3.6/site-packages/sklearn/neural_network/multilayer_perceptron.py:562: ConvergenceWarning: Stochastic Optimizer: Maximum iterations (20) reached and the optimization hasn't converged yet.\n",
      "  % self.max_iter, ConvergenceWarning)\n"
     ]
    },
    {
     "data": {
      "text/plain": [
       "MLPClassifier(activation='relu', alpha=0.0001, batch_size='auto', beta_1=0.9,\n",
       "       beta_2=0.999, early_stopping=False, epsilon=1e-08,\n",
       "       hidden_layer_sizes=(100,), learning_rate='constant',\n",
       "       learning_rate_init=0.001, max_iter=20, momentum=0.9,\n",
       "       n_iter_no_change=10, nesterovs_momentum=True, power_t=0.5,\n",
       "       random_state=None, shuffle=True, solver='adam', tol=0.0001,\n",
       "       validation_fraction=0.1, verbose=True, warm_start=True)"
      ]
     },
     "execution_count": 94,
     "metadata": {},
     "output_type": "execute_result"
    }
   ],
   "source": [
    "#fit the model"
   ]
  },
  {
   "cell_type": "code",
   "execution_count": 97,
   "metadata": {},
   "outputs": [
    {
     "name": "stdout",
     "output_type": "stream",
     "text": [
      "Training set score: 0.982530\n",
      "Test set score: 0.940952\n"
     ]
    }
   ],
   "source": [
    "print(\"Training set score: %f\" % mlp.score(train_x, train_y))\n",
    "print(\"Test set score: %f\" % mlp.score(test_x, test_y))"
   ]
  },
  {
   "cell_type": "code",
   "execution_count": 98,
   "metadata": {},
   "outputs": [
    {
     "data": {
      "image/png": "[encoded data removed]",
      "text/plain": [
       "<Figure size 432x288 with 1 Axes>"
      ]
     },
     "metadata": {},
     "output_type": "display_data"
    }
   ],
   "source": [
    "plt.title(\"Loss Curve for MNIST training\")\n",
    "plt.xlabel(\"Epoch\")\n",
    "plt.ylabel(\"Loss\")\n",
    "plt.plot(mlp.loss_curve_ ,c='red' , linestyle='-')\n",
    "plt.show()"
   ]
  },
  {
   "cell_type": "markdown",
   "metadata": {},
   "source": [
    "## Validation Curves\n",
    "\n",
    "in sklearn you can also eaasily check f your model if underfitting or overfitting via these validation curves\n",
    "\n",
    "Source: https://scikit-learn.org/stable/modules/learning_curve.html"
   ]
  },
  {
   "cell_type": "code",
   "execution_count": 104,
   "metadata": {
    "scrolled": true
   },
   "outputs": [
    {
     "name": "stdout",
     "output_type": "stream",
     "text": [
      "Iteration 1, loss = 3.32190393\n",
      "Iteration 2, loss = 1.23004501\n",
      "Iteration 3, loss = 0.76423016\n",
      "Iteration 4, loss = 0.52601689\n",
      "Iteration 5, loss = 0.37529255\n",
      "Iteration 6, loss = 0.28113889\n",
      "Iteration 7, loss = 0.20027362\n",
      "Iteration 8, loss = 0.16095822\n",
      "Iteration 9, loss = 0.13000480\n",
      "Iteration 10, loss = 0.10941213\n",
      "Iteration 11, loss = 0.10947414\n",
      "Iteration 12, loss = 0.10315081\n",
      "Iteration 13, loss = 0.09649289\n",
      "Iteration 14, loss = 0.08809384\n",
      "Iteration 15, loss = 0.07920882\n",
      "Iteration 16, loss = 0.08814944\n",
      "Iteration 17, loss = 0.08578018\n",
      "Iteration 18, loss = 0.07795269\n",
      "Iteration 19, loss = 0.06320344\n",
      "Iteration 20, loss = 0.07418372\n"
     ]
    },
    {
     "name": "stderr",
     "output_type": "stream",
     "text": [
      "/home/mehul/.local/lib/python3.6/site-packages/sklearn/neural_network/multilayer_perceptron.py:562: ConvergenceWarning: Stochastic Optimizer: Maximum iterations (20) reached and the optimization hasn't converged yet.\n",
      "  % self.max_iter, ConvergenceWarning)\n"
     ]
    },
    {
     "name": "stdout",
     "output_type": "stream",
     "text": [
      "Iteration 1, loss = 3.12615919\n",
      "Iteration 2, loss = 1.19736202\n",
      "Iteration 3, loss = 0.74540280\n",
      "Iteration 4, loss = 0.49326351\n",
      "Iteration 5, loss = 0.36001031\n",
      "Iteration 6, loss = 0.29265278\n",
      "Iteration 7, loss = 0.22179947\n",
      "Iteration 8, loss = 0.18162449\n",
      "Iteration 9, loss = 0.14612336\n",
      "Iteration 10, loss = 0.13443013\n",
      "Iteration 11, loss = 0.11666226\n",
      "Iteration 12, loss = 0.11840761\n",
      "Iteration 13, loss = 0.09666847\n",
      "Iteration 14, loss = 0.10652509\n",
      "Iteration 15, loss = 0.10278218\n",
      "Iteration 16, loss = 0.09984719\n",
      "Iteration 17, loss = 0.10161049\n",
      "Iteration 18, loss = 0.08423936\n",
      "Iteration 19, loss = 0.08264365\n",
      "Iteration 20, loss = 0.08019883\n"
     ]
    },
    {
     "name": "stderr",
     "output_type": "stream",
     "text": [
      "/home/mehul/.local/lib/python3.6/site-packages/sklearn/neural_network/multilayer_perceptron.py:562: ConvergenceWarning: Stochastic Optimizer: Maximum iterations (20) reached and the optimization hasn't converged yet.\n",
      "  % self.max_iter, ConvergenceWarning)\n"
     ]
    },
    {
     "name": "stdout",
     "output_type": "stream",
     "text": [
      "Iteration 1, loss = 158.86265507\n",
      "Iteration 2, loss = 18.43170736\n",
      "Iteration 3, loss = 3.89177307\n",
      "Iteration 4, loss = 1.48056180\n",
      "Iteration 5, loss = 0.94970118\n",
      "Iteration 6, loss = 0.80454277\n",
      "Iteration 7, loss = 0.75832748\n",
      "Iteration 8, loss = 0.74127527\n",
      "Iteration 9, loss = 0.73898294\n",
      "Iteration 10, loss = 0.73556523\n",
      "Iteration 11, loss = 0.73912212\n",
      "Iteration 12, loss = 0.74506588\n",
      "Iteration 13, loss = 0.74404369\n",
      "Iteration 14, loss = 0.74361763\n",
      "Iteration 15, loss = 0.74673502\n",
      "Iteration 16, loss = 0.74496054\n",
      "Iteration 17, loss = 0.75237604\n",
      "Iteration 18, loss = 0.75026531\n",
      "Iteration 19, loss = 0.76564448\n",
      "Iteration 20, loss = 0.76299827\n"
     ]
    },
    {
     "name": "stderr",
     "output_type": "stream",
     "text": [
      "/home/mehul/.local/lib/python3.6/site-packages/sklearn/neural_network/multilayer_perceptron.py:562: ConvergenceWarning: Stochastic Optimizer: Maximum iterations (20) reached and the optimization hasn't converged yet.\n",
      "  % self.max_iter, ConvergenceWarning)\n"
     ]
    },
    {
     "name": "stdout",
     "output_type": "stream",
     "text": [
      "Iteration 1, loss = 3.17554554\n",
      "Iteration 2, loss = 0.98054186\n",
      "Iteration 3, loss = 0.56436018\n",
      "Iteration 4, loss = 0.38711749\n",
      "Iteration 5, loss = 0.29183833\n",
      "Iteration 6, loss = 0.22322722\n",
      "Iteration 7, loss = 0.18542233\n",
      "Iteration 8, loss = 0.15496013\n",
      "Iteration 9, loss = 0.13669859\n",
      "Iteration 10, loss = 0.12062791\n",
      "Iteration 11, loss = 0.11277069\n",
      "Iteration 12, loss = 0.10427345\n",
      "Iteration 13, loss = 0.09423774\n",
      "Iteration 14, loss = 0.08879865\n",
      "Iteration 15, loss = 0.09682402\n",
      "Iteration 16, loss = 0.09701501\n",
      "Iteration 17, loss = 0.08103394\n",
      "Iteration 18, loss = 0.07730601\n",
      "Iteration 19, loss = 0.08274607\n",
      "Iteration 20, loss = 0.08360765\n"
     ]
    },
    {
     "name": "stderr",
     "output_type": "stream",
     "text": [
      "/home/mehul/.local/lib/python3.6/site-packages/sklearn/neural_network/multilayer_perceptron.py:562: ConvergenceWarning: Stochastic Optimizer: Maximum iterations (20) reached and the optimization hasn't converged yet.\n",
      "  % self.max_iter, ConvergenceWarning)\n"
     ]
    },
    {
     "name": "stdout",
     "output_type": "stream",
     "text": [
      "Iteration 1, loss = 3.23523720\n",
      "Iteration 2, loss = 1.23534913\n",
      "Iteration 3, loss = 0.77347812\n",
      "Iteration 4, loss = 0.54723775\n",
      "Iteration 5, loss = 0.37739762\n",
      "Iteration 6, loss = 0.29234609\n",
      "Iteration 7, loss = 0.22238248\n",
      "Iteration 8, loss = 0.17366644\n",
      "Iteration 9, loss = 0.14852254\n",
      "Iteration 10, loss = 0.12480919\n",
      "Iteration 11, loss = 0.11486171\n",
      "Iteration 12, loss = 0.09483026\n",
      "Iteration 13, loss = 0.09033237\n",
      "Iteration 14, loss = 0.10604274\n",
      "Iteration 15, loss = 0.12795319\n",
      "Iteration 16, loss = 0.10580285\n",
      "Iteration 17, loss = 0.07915679\n",
      "Iteration 18, loss = 0.08233263\n",
      "Iteration 19, loss = 0.06554927\n",
      "Iteration 20, loss = 0.08571742\n"
     ]
    },
    {
     "name": "stderr",
     "output_type": "stream",
     "text": [
      "/home/mehul/.local/lib/python3.6/site-packages/sklearn/neural_network/multilayer_perceptron.py:562: ConvergenceWarning: Stochastic Optimizer: Maximum iterations (20) reached and the optimization hasn't converged yet.\n",
      "  % self.max_iter, ConvergenceWarning)\n"
     ]
    },
    {
     "name": "stdout",
     "output_type": "stream",
     "text": [
      "Iteration 1, loss = 147.71136797\n",
      "Iteration 2, loss = 13.16939144\n",
      "Iteration 3, loss = 2.62921594\n",
      "Iteration 4, loss = 1.09627018\n",
      "Iteration 5, loss = 0.80949760\n",
      "Iteration 6, loss = 0.75179238\n",
      "Iteration 7, loss = 0.74191381\n",
      "Iteration 8, loss = 0.73592825\n",
      "Iteration 9, loss = 0.74561402\n",
      "Iteration 10, loss = 0.74136582\n",
      "Iteration 11, loss = 0.74298259\n",
      "Iteration 12, loss = 0.74311858\n",
      "Iteration 13, loss = 0.74880072\n",
      "Iteration 14, loss = 0.75468715\n",
      "Iteration 15, loss = 0.75445198\n",
      "Iteration 16, loss = 0.75738483\n",
      "Iteration 17, loss = 0.76939660\n",
      "Iteration 18, loss = 0.76594013\n",
      "Iteration 19, loss = 0.76345774\n",
      "Training loss did not improve more than tol=0.000100 for 10 consecutive epochs. Stopping.\n",
      "Iteration 1, loss = 3.20141985\n",
      "Iteration 2, loss = 1.06090108\n",
      "Iteration 3, loss = 0.59981883\n",
      "Iteration 4, loss = 0.40279962\n",
      "Iteration 5, loss = 0.30573177\n",
      "Iteration 6, loss = 0.24046724\n",
      "Iteration 7, loss = 0.19919113\n",
      "Iteration 8, loss = 0.17387092\n",
      "Iteration 9, loss = 0.15522299\n",
      "Iteration 10, loss = 0.13611587\n",
      "Iteration 11, loss = 0.12896327\n",
      "Iteration 12, loss = 0.17968614\n",
      "Iteration 13, loss = 0.12183646\n",
      "Iteration 14, loss = 0.10227786\n",
      "Iteration 15, loss = 0.09524799\n",
      "Iteration 16, loss = 0.08954674\n",
      "Iteration 17, loss = 0.09382428\n",
      "Iteration 18, loss = 0.09168782\n",
      "Iteration 19, loss = 0.08665853\n",
      "Iteration 20, loss = 0.09578406\n"
     ]
    },
    {
     "name": "stderr",
     "output_type": "stream",
     "text": [
      "/home/mehul/.local/lib/python3.6/site-packages/sklearn/neural_network/multilayer_perceptron.py:562: ConvergenceWarning: Stochastic Optimizer: Maximum iterations (20) reached and the optimization hasn't converged yet.\n",
      "  % self.max_iter, ConvergenceWarning)\n"
     ]
    },
    {
     "name": "stdout",
     "output_type": "stream",
     "text": [
      "Iteration 1, loss = 3.17606565\n",
      "Iteration 2, loss = 1.30043816\n",
      "Iteration 3, loss = 0.78885539\n",
      "Iteration 4, loss = 0.52768099\n",
      "Iteration 5, loss = 0.37804325\n",
      "Iteration 6, loss = 0.27782797\n",
      "Iteration 7, loss = 0.21185210\n",
      "Iteration 8, loss = 0.17203077\n",
      "Iteration 9, loss = 0.24012432\n",
      "Iteration 10, loss = 0.14171834\n",
      "Iteration 11, loss = 0.27298994\n",
      "Iteration 12, loss = 0.14697043\n",
      "Iteration 13, loss = 0.10959727\n",
      "Iteration 14, loss = 0.08076941\n",
      "Iteration 15, loss = 0.08102576\n",
      "Iteration 16, loss = 0.06596166\n",
      "Iteration 17, loss = 0.08211184\n",
      "Iteration 18, loss = 0.08328703\n",
      "Iteration 19, loss = 0.08025026\n",
      "Iteration 20, loss = 0.07788298\n"
     ]
    },
    {
     "name": "stderr",
     "output_type": "stream",
     "text": [
      "/home/mehul/.local/lib/python3.6/site-packages/sklearn/neural_network/multilayer_perceptron.py:562: ConvergenceWarning: Stochastic Optimizer: Maximum iterations (20) reached and the optimization hasn't converged yet.\n",
      "  % self.max_iter, ConvergenceWarning)\n"
     ]
    },
    {
     "name": "stdout",
     "output_type": "stream",
     "text": [
      "Iteration 1, loss = 157.27953441\n",
      "Iteration 2, loss = 17.42312188\n",
      "Iteration 3, loss = 7.70512634\n",
      "Iteration 4, loss = 4.39115108\n",
      "Iteration 5, loss = 2.94444032\n",
      "Iteration 6, loss = 2.30139403\n",
      "Iteration 7, loss = 1.81546598\n",
      "Iteration 8, loss = 1.19894947\n",
      "Iteration 9, loss = 1.14447586\n",
      "Iteration 10, loss = 1.16861919\n",
      "Iteration 11, loss = 1.26571757\n",
      "Iteration 12, loss = 1.21854633\n",
      "Iteration 13, loss = 1.28612069\n",
      "Iteration 14, loss = 1.32399457\n",
      "Iteration 15, loss = 1.30517812\n",
      "Iteration 16, loss = 1.34725132\n",
      "Iteration 17, loss = 1.35584923\n",
      "Iteration 18, loss = 1.40323069\n",
      "Iteration 19, loss = 1.34312941\n",
      "Iteration 20, loss = 1.56190405\n",
      "Training loss did not improve more than tol=0.000100 for 10 consecutive epochs. Stopping.\n",
      "Iteration 1, loss = 3.34291759\n",
      "Iteration 2, loss = 1.27677346\n",
      "Iteration 3, loss = 0.81634392\n",
      "Iteration 4, loss = 0.58230567\n",
      "Iteration 5, loss = 0.41625777\n",
      "Iteration 6, loss = 0.31579979\n",
      "Iteration 7, loss = 0.26190792\n",
      "Iteration 8, loss = 0.23533606\n",
      "Iteration 9, loss = 0.33164391\n",
      "Iteration 10, loss = 0.16669946\n",
      "Iteration 11, loss = 0.15527745\n",
      "Iteration 12, loss = 0.10620421\n",
      "Iteration 13, loss = 0.10341910\n",
      "Iteration 14, loss = 0.09724963\n",
      "Iteration 15, loss = 0.07442047\n",
      "Iteration 16, loss = 0.09242708\n",
      "Iteration 17, loss = 0.10857397\n",
      "Iteration 18, loss = 0.16141863\n",
      "Iteration 19, loss = 0.10533024\n",
      "Iteration 20, loss = 0.08399356\n"
     ]
    },
    {
     "name": "stderr",
     "output_type": "stream",
     "text": [
      "/home/mehul/.local/lib/python3.6/site-packages/sklearn/neural_network/multilayer_perceptron.py:562: ConvergenceWarning: Stochastic Optimizer: Maximum iterations (20) reached and the optimization hasn't converged yet.\n",
      "  % self.max_iter, ConvergenceWarning)\n"
     ]
    },
    {
     "name": "stdout",
     "output_type": "stream",
     "text": [
      "Iteration 1, loss = 3.45112328\n",
      "Iteration 2, loss = 1.27924600\n",
      "Iteration 3, loss = 0.85640866\n",
      "Iteration 4, loss = 0.56825276\n",
      "Iteration 5, loss = 0.39914293\n",
      "Iteration 6, loss = 0.28384334\n",
      "Iteration 7, loss = 0.21168663\n",
      "Iteration 8, loss = 0.17885657\n",
      "Iteration 9, loss = 0.14283412\n",
      "Iteration 10, loss = 0.11513673\n",
      "Iteration 11, loss = 0.11397169\n",
      "Iteration 12, loss = 0.10969564\n",
      "Iteration 13, loss = 0.10261372\n",
      "Iteration 14, loss = 0.09132516\n",
      "Iteration 15, loss = 0.08243521\n",
      "Iteration 16, loss = 0.07308942\n",
      "Iteration 17, loss = 0.07607719\n",
      "Iteration 18, loss = 0.08450809\n",
      "Iteration 19, loss = 0.08520602\n",
      "Iteration 20, loss = 0.08758982\n"
     ]
    },
    {
     "name": "stderr",
     "output_type": "stream",
     "text": [
      "/home/mehul/.local/lib/python3.6/site-packages/sklearn/neural_network/multilayer_perceptron.py:562: ConvergenceWarning: Stochastic Optimizer: Maximum iterations (20) reached and the optimization hasn't converged yet.\n",
      "  % self.max_iter, ConvergenceWarning)\n"
     ]
    },
    {
     "name": "stdout",
     "output_type": "stream",
     "text": [
      "Iteration 1, loss = 148.71002870\n",
      "Iteration 2, loss = 11.45140028\n",
      "Iteration 3, loss = 3.63635786\n",
      "Iteration 4, loss = 1.60236959\n",
      "Iteration 5, loss = 1.00763749\n",
      "Iteration 6, loss = 0.85909470\n",
      "Iteration 7, loss = 0.83133143\n",
      "Iteration 8, loss = 0.82390428\n",
      "Iteration 9, loss = 0.88917456\n",
      "Iteration 10, loss = 0.84643418\n",
      "Iteration 11, loss = 0.82661976\n",
      "Iteration 12, loss = 0.84745535\n",
      "Iteration 13, loss = 0.84796359\n",
      "Iteration 14, loss = 0.84179546\n",
      "Iteration 15, loss = 0.89007243\n",
      "Iteration 16, loss = 0.85512140\n",
      "Iteration 17, loss = 0.88787749\n",
      "Iteration 18, loss = 0.85947059\n",
      "Iteration 19, loss = 0.88915242\n",
      "Training loss did not improve more than tol=0.000100 for 10 consecutive epochs. Stopping.\n",
      "Iteration 1, loss = 3.50642420\n",
      "Iteration 2, loss = 1.26959156\n",
      "Iteration 3, loss = 0.74831243\n",
      "Iteration 4, loss = 0.49515661\n",
      "Iteration 5, loss = 0.37029744\n",
      "Iteration 6, loss = 0.28827531\n",
      "Iteration 7, loss = 0.22877790\n",
      "Iteration 8, loss = 0.19463111\n",
      "Iteration 9, loss = 0.17329561\n",
      "Iteration 10, loss = 0.15256611\n",
      "Iteration 11, loss = 0.12190110\n",
      "Iteration 12, loss = 0.14270657\n",
      "Iteration 13, loss = 0.10679254\n",
      "Iteration 14, loss = 0.09476366\n",
      "Iteration 15, loss = 0.08773496\n",
      "Iteration 16, loss = 0.09139542\n",
      "Iteration 17, loss = 0.10087024\n",
      "Iteration 18, loss = 0.08183151\n",
      "Iteration 19, loss = 0.09652255\n",
      "Iteration 20, loss = 0.09163464\n"
     ]
    },
    {
     "name": "stderr",
     "output_type": "stream",
     "text": [
      "/home/mehul/.local/lib/python3.6/site-packages/sklearn/neural_network/multilayer_perceptron.py:562: ConvergenceWarning: Stochastic Optimizer: Maximum iterations (20) reached and the optimization hasn't converged yet.\n",
      "  % self.max_iter, ConvergenceWarning)\n"
     ]
    },
    {
     "name": "stdout",
     "output_type": "stream",
     "text": [
      "Iteration 1, loss = 3.23808765\n",
      "Iteration 2, loss = 1.18941565\n",
      "Iteration 3, loss = 0.72215824\n",
      "Iteration 4, loss = 0.51825448\n",
      "Iteration 5, loss = 0.34622314\n",
      "Iteration 6, loss = 0.28435366\n",
      "Iteration 7, loss = 0.21825689\n",
      "Iteration 8, loss = 0.18445590\n",
      "Iteration 9, loss = 0.18251515\n",
      "Iteration 10, loss = 0.15743551\n",
      "Iteration 11, loss = 0.15182104\n",
      "Iteration 12, loss = 0.12548725\n",
      "Iteration 13, loss = 0.10186791\n",
      "Iteration 14, loss = 0.09248259\n",
      "Iteration 15, loss = 0.08859800\n",
      "Iteration 16, loss = 0.08314545\n",
      "Iteration 17, loss = 0.10150961\n",
      "Iteration 18, loss = 0.09444548\n",
      "Iteration 19, loss = 0.07712473\n",
      "Iteration 20, loss = 0.08174736\n"
     ]
    },
    {
     "name": "stderr",
     "output_type": "stream",
     "text": [
      "/home/mehul/.local/lib/python3.6/site-packages/sklearn/neural_network/multilayer_perceptron.py:562: ConvergenceWarning: Stochastic Optimizer: Maximum iterations (20) reached and the optimization hasn't converged yet.\n",
      "  % self.max_iter, ConvergenceWarning)\n"
     ]
    },
    {
     "name": "stdout",
     "output_type": "stream",
     "text": [
      "Iteration 1, loss = 164.06875072\n",
      "Iteration 2, loss = 19.21324975\n",
      "Iteration 3, loss = 5.30040501\n",
      "Iteration 4, loss = 2.17992233\n",
      "Iteration 5, loss = 1.20571758\n",
      "Iteration 6, loss = 0.88845108\n",
      "Iteration 7, loss = 0.79309721\n",
      "Iteration 8, loss = 0.77234672\n",
      "Iteration 9, loss = 0.76932141\n",
      "Iteration 10, loss = 0.77666512\n",
      "Iteration 11, loss = 0.78399435\n",
      "Iteration 12, loss = 0.78109519\n",
      "Iteration 13, loss = 0.79588330\n",
      "Iteration 14, loss = 0.83152355\n",
      "Iteration 15, loss = 0.80448569\n",
      "Iteration 16, loss = 0.79585610\n",
      "Iteration 17, loss = 0.80066198\n",
      "Iteration 18, loss = 0.81042721\n"
     ]
    },
    {
     "name": "stderr",
     "output_type": "stream",
     "text": [
      "/home/mehul/.local/lib/python3.6/site-packages/sklearn/neural_network/multilayer_perceptron.py:564: UserWarning: Training interrupted by user.\n",
      "  warnings.warn(\"Training interrupted by user.\")\n"
     ]
    }
   ],
   "source": [
    "#THIS will take time.(Can skip for the time being)\n",
    "\n",
    "from sklearn.model_selection import validation_curve\n",
    "\n",
    "train_scores, valid_scores = validation_curve(mlp, X.values , Y.values, \"alpha\",\n",
    "                                             np.logspace(-7, 3, 3),\n",
    "                                             cv = 5)"
   ]
  },
  {
   "cell_type": "code",
   "execution_count": 107,
   "metadata": {},
   "outputs": [
    {
     "data": {
      "image/png": "[encoded data removed]",
      "text/plain": [
       "<Figure size 432x288 with 1 Axes>"
      ]
     },
     "metadata": {},
     "output_type": "display_data"
    }
   ],
   "source": [
    "train_scores_mean = np.mean(train_scores, axis=1)\n",
    "train_scores_std = np.std(train_scores, axis=1)\n",
    "test_scores_mean = np.mean(valid_scores, axis=1)\n",
    "test_scores_std = np.std(valid_scores, axis=1)\n",
    "\n",
    "\n",
    "param_range = np.logspace(-7, 3, 3)\n",
    "\n",
    "\n",
    "\n",
    "plt.title(\"Validation Curve with MLP\")\n",
    "plt.xlabel(r\"$\\gamma$\")\n",
    "plt.ylabel(\"Score\")\n",
    "plt.ylim(0.0, 1.1)\n",
    "lw = 2\n",
    "plt.semilogx(param_range, train_scores_mean, label=\"Training score\",\n",
    "             color=\"darkorange\", lw=lw)\n",
    "plt.fill_between(param_range, train_scores_mean - train_scores_std,\n",
    "                 train_scores_mean + train_scores_std, alpha=0.2,\n",
    "                 color=\"darkorange\", lw=lw)\n",
    "plt.semilogx(param_range, test_scores_mean, label=\"Cross-validation score\",\n",
    "             color=\"navy\", lw=lw)\n",
    "plt.fill_between(param_range, test_scores_mean - test_scores_std,\n",
    "                 test_scores_mean + test_scores_std, alpha=0.2,\n",
    "                 color=\"navy\", lw=lw)\n",
    "plt.legend(loc=\"best\")\n",
    "plt.show()"
   ]
  },
  {
   "cell_type": "markdown",
   "metadata": {},
   "source": [
    "## Visualising Weights of the MLP"
   ]
  },
  {
   "cell_type": "code",
   "execution_count": null,
   "metadata": {},
   "outputs": [],
   "source": [
    "fig, axes = plt.subplots(4, 4)\n",
    "# use global min / max to ensure all weights are shown on the same scale\n",
    "vmin, vmax = mlp.coefs_[0].min(), mlp.coefs_[0].max()\n",
    "for coef, ax in zip(mlp.coefs_[0].T, axes.ravel()):\n",
    "    ax.matshow(coef.reshape(28, 28), cmap=plt.cm.gray, vmin=.5 * vmin,\n",
    "               vmax=.5 * vmax)\n",
    "    ax.set_xticks(())\n",
    "    ax.set_yticks(())\n",
    "\n",
    "plt.show()"
   ]
  }
 ],
 "metadata": {
  "kernelspec": {
   "display_name": "Python 3",
   "language": "python",
   "name": "python3"
  },
  "language_info": {
   "codemirror_mode": {
    "name": "ipython",
    "version": 3
   },
   "file_extension": ".py",
   "mimetype": "text/x-python",
   "name": "python",
   "nbconvert_exporter": "python",
   "pygments_lexer": "ipython3",
   "version": "3.6.8"
  }
 },
 "nbformat": 4,
 "nbformat_minor": 2
}
